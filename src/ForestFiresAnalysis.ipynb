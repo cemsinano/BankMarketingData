{
 "cells": [
  {
   "cell_type": "markdown",
   "metadata": {},
   "source": [
    "# Forest Fire Mini Project \n",
    "\n",
    "> in this file, you can find analysis for this project. For the final report please visit `Report.ipynb`"
   ]
  },
  {
   "cell_type": "code",
   "execution_count": 1,
   "metadata": {
    "collapsed": true
   },
   "outputs": [],
   "source": [
    "import pandas as pd\n",
    "import numpy as np\n",
    "import matplotlib.pyplot as plt\n",
    "from sklearn.model_selection import train_test_split\n",
    "from sklearn.linear_model import LinearRegression, Ridge, Lasso, ElasticNet\n",
    "from sklearn.preprocessing import LabelEncoder\n",
    "from sklearn.metrics import accuracy_score, mean_squared_error\n",
    "\n",
    "from sklearn.ensemble import RandomForestRegressor\n",
    "\n",
    "from sklearn.feature_selection import RFE\n",
    "\n",
    "from sklearn.svm import SVR\n",
    "\n",
    "import warnings\n",
    "warnings.filterwarnings('ignore')\n",
    "\n",
    "%matplotlib inline"
   ]
  },
  {
   "cell_type": "markdown",
   "metadata": {},
   "source": [
    "## Introduction\n",
    "\n",
    "\n",
    "### Data Information\n",
    "\n",
    "The Forest Fires data is available at UCI, to reach it please click [here](http://archive.ics.uci.edu/ml/datasets/Forest+Fires).\n",
    "\n",
    "The citation to this data set: \n",
    "\n",
    "[Cortez and Morais, 2007] P. Cortez and A. Morais. A Data Mining Approach to Predict Forest Fires using Meteorological Data. In J. Neves, M. F. Santos and J. Machado Eds., New Trends in Artificial Intelligence, Proceedings of the 13th EPIA 2007 - Portuguese Conference on Artificial Intelligence, December, Guimarães, Portugal, pp. 512-523, 2007. APPIA, ISBN-13 978-989-95618-0-9. Available at: [http://www.dsi.uminho.pt/~pcortez/fires.pdf](http://www3.dsi.uminho.pt/pcortez/fires.pdf)\n",
    "    \n",
    "#### Attributes:\n",
    "\n",
    "1. `X` - x-axis spatial coordinate within the Montesinho park map: 1 to 9 \n",
    "2. `Y` - y-axis spatial coordinate within the Montesinho park map: 2 to 9 \n",
    "3. `month` - month of the year: 'jan' to 'dec' \n",
    "4. `day` - day of the week: 'mon' to 'sun' \n",
    "5. `FFMC` - FFMC index from the FWI system: 18.7 to 96.20 \n",
    "6. `DMC` - DMC index from the FWI system: 1.1 to 291.3 \n",
    "7. `DC` - DC index from the FWI system: 7.9 to 860.6 \n",
    "8. `ISI` - ISI index from the FWI system: 0.0 to 56.10 \n",
    "9. `temp` - temperature in Celsius degrees: 2.2 to 33.30 \n",
    "10. `RH` - relative humidity in %: 15.0 to 100 \n",
    "11. `wind` - wind speed in km/h: 0.40 to 9.40 \n",
    "12. `rain` - outside rain in mm/m2 : 0.0 to 6.4 \n",
    "13. `area` - the burned area of the forest (in ha): 0.00 to 1090.84 \n",
    "\n",
    "\n",
    "#### Model and Feature Selection Process:\n",
    "\n",
    "I will also try predict the `area` variable via regression models.\n",
    "\n",
    " - First, I fit the data with all features to Random Forest Regression with pruned `depth` hyperparameters.\n",
    " - Then I will use to Lasso(L1 regularization) Regression and ElasticNet(L1+L2 regularization) Regression to select features. I will not use Ridge(L2 regularization) since it does not any exact zero weigthed features.\n",
    " - As last step, I will fit the data to Random Forest Regression with pruned `depth` hyperparameters onto both features selected by Lasso and ElasticNet.\n",
    "\n",
    "\n"
   ]
  },
  {
   "cell_type": "code",
   "execution_count": 2,
   "metadata": {
    "collapsed": true
   },
   "outputs": [],
   "source": [
    "# load the dataset: \n",
    "forestfires = pd.read_csv(\"http://archive.ics.uci.edu/ml/machine-learning-databases/forest-fires/forestfires.csv\")\n",
    "\n",
    "# Write the data frame to a csv file:\n",
    "forestfires.to_csv(\"../data/forestfires.csv\", encoding='utf-8', index=False)"
   ]
  },
  {
   "cell_type": "code",
   "execution_count": 3,
   "metadata": {},
   "outputs": [
    {
     "data": {
      "text/html": [
       "<div>\n",
       "<style scoped>\n",
       "    .dataframe tbody tr th:only-of-type {\n",
       "        vertical-align: middle;\n",
       "    }\n",
       "\n",
       "    .dataframe tbody tr th {\n",
       "        vertical-align: top;\n",
       "    }\n",
       "\n",
       "    .dataframe thead th {\n",
       "        text-align: right;\n",
       "    }\n",
       "</style>\n",
       "<table border=\"1\" class=\"dataframe\">\n",
       "  <thead>\n",
       "    <tr style=\"text-align: right;\">\n",
       "      <th></th>\n",
       "      <th>X</th>\n",
       "      <th>Y</th>\n",
       "      <th>month</th>\n",
       "      <th>day</th>\n",
       "      <th>FFMC</th>\n",
       "      <th>DMC</th>\n",
       "      <th>DC</th>\n",
       "      <th>ISI</th>\n",
       "      <th>temp</th>\n",
       "      <th>RH</th>\n",
       "      <th>wind</th>\n",
       "      <th>rain</th>\n",
       "      <th>area</th>\n",
       "    </tr>\n",
       "  </thead>\n",
       "  <tbody>\n",
       "    <tr>\n",
       "      <th>0</th>\n",
       "      <td>7</td>\n",
       "      <td>5</td>\n",
       "      <td>mar</td>\n",
       "      <td>fri</td>\n",
       "      <td>86.2</td>\n",
       "      <td>26.2</td>\n",
       "      <td>94.3</td>\n",
       "      <td>5.1</td>\n",
       "      <td>8.2</td>\n",
       "      <td>51</td>\n",
       "      <td>6.7</td>\n",
       "      <td>0.0</td>\n",
       "      <td>0.0</td>\n",
       "    </tr>\n",
       "    <tr>\n",
       "      <th>1</th>\n",
       "      <td>7</td>\n",
       "      <td>4</td>\n",
       "      <td>oct</td>\n",
       "      <td>tue</td>\n",
       "      <td>90.6</td>\n",
       "      <td>35.4</td>\n",
       "      <td>669.1</td>\n",
       "      <td>6.7</td>\n",
       "      <td>18.0</td>\n",
       "      <td>33</td>\n",
       "      <td>0.9</td>\n",
       "      <td>0.0</td>\n",
       "      <td>0.0</td>\n",
       "    </tr>\n",
       "    <tr>\n",
       "      <th>2</th>\n",
       "      <td>7</td>\n",
       "      <td>4</td>\n",
       "      <td>oct</td>\n",
       "      <td>sat</td>\n",
       "      <td>90.6</td>\n",
       "      <td>43.7</td>\n",
       "      <td>686.9</td>\n",
       "      <td>6.7</td>\n",
       "      <td>14.6</td>\n",
       "      <td>33</td>\n",
       "      <td>1.3</td>\n",
       "      <td>0.0</td>\n",
       "      <td>0.0</td>\n",
       "    </tr>\n",
       "    <tr>\n",
       "      <th>3</th>\n",
       "      <td>8</td>\n",
       "      <td>6</td>\n",
       "      <td>mar</td>\n",
       "      <td>fri</td>\n",
       "      <td>91.7</td>\n",
       "      <td>33.3</td>\n",
       "      <td>77.5</td>\n",
       "      <td>9.0</td>\n",
       "      <td>8.3</td>\n",
       "      <td>97</td>\n",
       "      <td>4.0</td>\n",
       "      <td>0.2</td>\n",
       "      <td>0.0</td>\n",
       "    </tr>\n",
       "    <tr>\n",
       "      <th>4</th>\n",
       "      <td>8</td>\n",
       "      <td>6</td>\n",
       "      <td>mar</td>\n",
       "      <td>sun</td>\n",
       "      <td>89.3</td>\n",
       "      <td>51.3</td>\n",
       "      <td>102.2</td>\n",
       "      <td>9.6</td>\n",
       "      <td>11.4</td>\n",
       "      <td>99</td>\n",
       "      <td>1.8</td>\n",
       "      <td>0.0</td>\n",
       "      <td>0.0</td>\n",
       "    </tr>\n",
       "  </tbody>\n",
       "</table>\n",
       "</div>"
      ],
      "text/plain": [
       "   X  Y month  day  FFMC   DMC     DC  ISI  temp  RH  wind  rain  area\n",
       "0  7  5   mar  fri  86.2  26.2   94.3  5.1   8.2  51   6.7   0.0   0.0\n",
       "1  7  4   oct  tue  90.6  35.4  669.1  6.7  18.0  33   0.9   0.0   0.0\n",
       "2  7  4   oct  sat  90.6  43.7  686.9  6.7  14.6  33   1.3   0.0   0.0\n",
       "3  8  6   mar  fri  91.7  33.3   77.5  9.0   8.3  97   4.0   0.2   0.0\n",
       "4  8  6   mar  sun  89.3  51.3  102.2  9.6  11.4  99   1.8   0.0   0.0"
      ]
     },
     "execution_count": 3,
     "metadata": {},
     "output_type": "execute_result"
    }
   ],
   "source": [
    "forestfires.head()"
   ]
  },
  {
   "cell_type": "code",
   "execution_count": 4,
   "metadata": {},
   "outputs": [
    {
     "data": {
      "text/html": [
       "<div>\n",
       "<style scoped>\n",
       "    .dataframe tbody tr th:only-of-type {\n",
       "        vertical-align: middle;\n",
       "    }\n",
       "\n",
       "    .dataframe tbody tr th {\n",
       "        vertical-align: top;\n",
       "    }\n",
       "\n",
       "    .dataframe thead th {\n",
       "        text-align: right;\n",
       "    }\n",
       "</style>\n",
       "<table border=\"1\" class=\"dataframe\">\n",
       "  <thead>\n",
       "    <tr style=\"text-align: right;\">\n",
       "      <th></th>\n",
       "      <th>X</th>\n",
       "      <th>Y</th>\n",
       "      <th>FFMC</th>\n",
       "      <th>DMC</th>\n",
       "      <th>DC</th>\n",
       "      <th>ISI</th>\n",
       "      <th>temp</th>\n",
       "      <th>RH</th>\n",
       "      <th>wind</th>\n",
       "      <th>rain</th>\n",
       "      <th>area</th>\n",
       "    </tr>\n",
       "  </thead>\n",
       "  <tbody>\n",
       "    <tr>\n",
       "      <th>count</th>\n",
       "      <td>517.000000</td>\n",
       "      <td>517.000000</td>\n",
       "      <td>517.000000</td>\n",
       "      <td>517.000000</td>\n",
       "      <td>517.000000</td>\n",
       "      <td>517.000000</td>\n",
       "      <td>517.000000</td>\n",
       "      <td>517.000000</td>\n",
       "      <td>517.000000</td>\n",
       "      <td>517.000000</td>\n",
       "      <td>517.000000</td>\n",
       "    </tr>\n",
       "    <tr>\n",
       "      <th>mean</th>\n",
       "      <td>4.669246</td>\n",
       "      <td>4.299807</td>\n",
       "      <td>90.644681</td>\n",
       "      <td>110.872340</td>\n",
       "      <td>547.940039</td>\n",
       "      <td>9.021663</td>\n",
       "      <td>18.889168</td>\n",
       "      <td>44.288201</td>\n",
       "      <td>4.017602</td>\n",
       "      <td>0.021663</td>\n",
       "      <td>12.847292</td>\n",
       "    </tr>\n",
       "    <tr>\n",
       "      <th>std</th>\n",
       "      <td>2.313778</td>\n",
       "      <td>1.229900</td>\n",
       "      <td>5.520111</td>\n",
       "      <td>64.046482</td>\n",
       "      <td>248.066192</td>\n",
       "      <td>4.559477</td>\n",
       "      <td>5.806625</td>\n",
       "      <td>16.317469</td>\n",
       "      <td>1.791653</td>\n",
       "      <td>0.295959</td>\n",
       "      <td>63.655818</td>\n",
       "    </tr>\n",
       "    <tr>\n",
       "      <th>min</th>\n",
       "      <td>1.000000</td>\n",
       "      <td>2.000000</td>\n",
       "      <td>18.700000</td>\n",
       "      <td>1.100000</td>\n",
       "      <td>7.900000</td>\n",
       "      <td>0.000000</td>\n",
       "      <td>2.200000</td>\n",
       "      <td>15.000000</td>\n",
       "      <td>0.400000</td>\n",
       "      <td>0.000000</td>\n",
       "      <td>0.000000</td>\n",
       "    </tr>\n",
       "    <tr>\n",
       "      <th>25%</th>\n",
       "      <td>3.000000</td>\n",
       "      <td>4.000000</td>\n",
       "      <td>90.200000</td>\n",
       "      <td>68.600000</td>\n",
       "      <td>437.700000</td>\n",
       "      <td>6.500000</td>\n",
       "      <td>15.500000</td>\n",
       "      <td>33.000000</td>\n",
       "      <td>2.700000</td>\n",
       "      <td>0.000000</td>\n",
       "      <td>0.000000</td>\n",
       "    </tr>\n",
       "    <tr>\n",
       "      <th>50%</th>\n",
       "      <td>4.000000</td>\n",
       "      <td>4.000000</td>\n",
       "      <td>91.600000</td>\n",
       "      <td>108.300000</td>\n",
       "      <td>664.200000</td>\n",
       "      <td>8.400000</td>\n",
       "      <td>19.300000</td>\n",
       "      <td>42.000000</td>\n",
       "      <td>4.000000</td>\n",
       "      <td>0.000000</td>\n",
       "      <td>0.520000</td>\n",
       "    </tr>\n",
       "    <tr>\n",
       "      <th>75%</th>\n",
       "      <td>7.000000</td>\n",
       "      <td>5.000000</td>\n",
       "      <td>92.900000</td>\n",
       "      <td>142.400000</td>\n",
       "      <td>713.900000</td>\n",
       "      <td>10.800000</td>\n",
       "      <td>22.800000</td>\n",
       "      <td>53.000000</td>\n",
       "      <td>4.900000</td>\n",
       "      <td>0.000000</td>\n",
       "      <td>6.570000</td>\n",
       "    </tr>\n",
       "    <tr>\n",
       "      <th>max</th>\n",
       "      <td>9.000000</td>\n",
       "      <td>9.000000</td>\n",
       "      <td>96.200000</td>\n",
       "      <td>291.300000</td>\n",
       "      <td>860.600000</td>\n",
       "      <td>56.100000</td>\n",
       "      <td>33.300000</td>\n",
       "      <td>100.000000</td>\n",
       "      <td>9.400000</td>\n",
       "      <td>6.400000</td>\n",
       "      <td>1090.840000</td>\n",
       "    </tr>\n",
       "  </tbody>\n",
       "</table>\n",
       "</div>"
      ],
      "text/plain": [
       "                X           Y        FFMC         DMC          DC         ISI  \\\n",
       "count  517.000000  517.000000  517.000000  517.000000  517.000000  517.000000   \n",
       "mean     4.669246    4.299807   90.644681  110.872340  547.940039    9.021663   \n",
       "std      2.313778    1.229900    5.520111   64.046482  248.066192    4.559477   \n",
       "min      1.000000    2.000000   18.700000    1.100000    7.900000    0.000000   \n",
       "25%      3.000000    4.000000   90.200000   68.600000  437.700000    6.500000   \n",
       "50%      4.000000    4.000000   91.600000  108.300000  664.200000    8.400000   \n",
       "75%      7.000000    5.000000   92.900000  142.400000  713.900000   10.800000   \n",
       "max      9.000000    9.000000   96.200000  291.300000  860.600000   56.100000   \n",
       "\n",
       "             temp          RH        wind        rain         area  \n",
       "count  517.000000  517.000000  517.000000  517.000000   517.000000  \n",
       "mean    18.889168   44.288201    4.017602    0.021663    12.847292  \n",
       "std      5.806625   16.317469    1.791653    0.295959    63.655818  \n",
       "min      2.200000   15.000000    0.400000    0.000000     0.000000  \n",
       "25%     15.500000   33.000000    2.700000    0.000000     0.000000  \n",
       "50%     19.300000   42.000000    4.000000    0.000000     0.520000  \n",
       "75%     22.800000   53.000000    4.900000    0.000000     6.570000  \n",
       "max     33.300000  100.000000    9.400000    6.400000  1090.840000  "
      ]
     },
     "execution_count": 4,
     "metadata": {},
     "output_type": "execute_result"
    }
   ],
   "source": [
    "forestfires.describe()"
   ]
  },
  {
   "cell_type": "code",
   "execution_count": 5,
   "metadata": {},
   "outputs": [
    {
     "name": "stdout",
     "output_type": "stream",
     "text": [
      "<class 'pandas.core.frame.DataFrame'>\n",
      "RangeIndex: 517 entries, 0 to 516\n",
      "Data columns (total 13 columns):\n",
      "X        517 non-null int64\n",
      "Y        517 non-null int64\n",
      "month    517 non-null object\n",
      "day      517 non-null object\n",
      "FFMC     517 non-null float64\n",
      "DMC      517 non-null float64\n",
      "DC       517 non-null float64\n",
      "ISI      517 non-null float64\n",
      "temp     517 non-null float64\n",
      "RH       517 non-null int64\n",
      "wind     517 non-null float64\n",
      "rain     517 non-null float64\n",
      "area     517 non-null float64\n",
      "dtypes: float64(8), int64(3), object(2)\n",
      "memory usage: 52.6+ KB\n"
     ]
    }
   ],
   "source": [
    "forestfires.info()"
   ]
  },
  {
   "cell_type": "markdown",
   "metadata": {},
   "source": [
    "### Response Variable and Predictors:\n",
    "\n",
    "**Response Variable:** `area` which is the burned area in forest. \n",
    "- We see the original paper used this variable after log transformation since *variable is very skewed towards 0.0*. After fitting the models, the outputs were post-processed with the inverse of the ln(x+1) transform\n",
    "\n",
    "**Predictiors:** We need to assign dummy variables for categorical variables `month` and `day`. "
   ]
  },
  {
   "cell_type": "code",
   "execution_count": 6,
   "metadata": {},
   "outputs": [
    {
     "data": {
      "image/png": "[encoded data removed]",
      "text/plain": [
       "<matplotlib.figure.Figure at 0x10ecbcb70>"
      ]
     },
     "metadata": {},
     "output_type": "display_data"
    }
   ],
   "source": [
    "# histogram for area response variable:\n",
    "plt.hist(forestfires.area)\n",
    "plt.title(\"Burned Area\")\n",
    "plt.savefig('../results/AreaBeforeTransformation.png')"
   ]
  },
  {
   "cell_type": "code",
   "execution_count": 7,
   "metadata": {},
   "outputs": [
    {
     "data": {
      "image/png": "[encoded data removed]",
      "text/plain": [
       "<matplotlib.figure.Figure at 0x1a1e2e02b0>"
      ]
     },
     "metadata": {},
     "output_type": "display_data"
    }
   ],
   "source": [
    "## after log transformation : \n",
    "plt.hist(np.log(forestfires.area+1))\n",
    "plt.title(\"Log Transformed Burned Area\")\n",
    "plt.savefig('../results/AreaAfterTransformation.png')"
   ]
  },
  {
   "cell_type": "markdown",
   "metadata": {},
   "source": [
    " > As we can see from the histograms, log transformation helps the area variable to spread out. "
   ]
  },
  {
   "cell_type": "code",
   "execution_count": 8,
   "metadata": {
    "collapsed": true
   },
   "outputs": [],
   "source": [
    "## Encode the categorical Variables :\n",
    "\n",
    "# one way is: \n",
    "#le = LabelEncoder()\n",
    "#forestfires[\"month\"] = le.fit_transform(forestfires[\"month\"])\n",
    "#forestfires[\"day\"] = le.fit_transform(forestfires[\"day\"])\n",
    "\n",
    "\n",
    "forestfires = pd.get_dummies(forestfires, prefix='m', columns=['month'])\n",
    "forestfires = pd.get_dummies(forestfires, prefix='d', columns=['day'])"
   ]
  },
  {
   "cell_type": "code",
   "execution_count": 9,
   "metadata": {
    "scrolled": true
   },
   "outputs": [
    {
     "data": {
      "text/html": [
       "<div>\n",
       "<style scoped>\n",
       "    .dataframe tbody tr th:only-of-type {\n",
       "        vertical-align: middle;\n",
       "    }\n",
       "\n",
       "    .dataframe tbody tr th {\n",
       "        vertical-align: top;\n",
       "    }\n",
       "\n",
       "    .dataframe thead th {\n",
       "        text-align: right;\n",
       "    }\n",
       "</style>\n",
       "<table border=\"1\" class=\"dataframe\">\n",
       "  <thead>\n",
       "    <tr style=\"text-align: right;\">\n",
       "      <th></th>\n",
       "      <th>X</th>\n",
       "      <th>Y</th>\n",
       "      <th>FFMC</th>\n",
       "      <th>DMC</th>\n",
       "      <th>DC</th>\n",
       "      <th>ISI</th>\n",
       "      <th>temp</th>\n",
       "      <th>RH</th>\n",
       "      <th>wind</th>\n",
       "      <th>rain</th>\n",
       "      <th>...</th>\n",
       "      <th>m_nov</th>\n",
       "      <th>m_oct</th>\n",
       "      <th>m_sep</th>\n",
       "      <th>d_fri</th>\n",
       "      <th>d_mon</th>\n",
       "      <th>d_sat</th>\n",
       "      <th>d_sun</th>\n",
       "      <th>d_thu</th>\n",
       "      <th>d_tue</th>\n",
       "      <th>d_wed</th>\n",
       "    </tr>\n",
       "  </thead>\n",
       "  <tbody>\n",
       "    <tr>\n",
       "      <th>0</th>\n",
       "      <td>7</td>\n",
       "      <td>5</td>\n",
       "      <td>86.2</td>\n",
       "      <td>26.2</td>\n",
       "      <td>94.3</td>\n",
       "      <td>5.1</td>\n",
       "      <td>8.2</td>\n",
       "      <td>51</td>\n",
       "      <td>6.7</td>\n",
       "      <td>0.0</td>\n",
       "      <td>...</td>\n",
       "      <td>0</td>\n",
       "      <td>0</td>\n",
       "      <td>0</td>\n",
       "      <td>1</td>\n",
       "      <td>0</td>\n",
       "      <td>0</td>\n",
       "      <td>0</td>\n",
       "      <td>0</td>\n",
       "      <td>0</td>\n",
       "      <td>0</td>\n",
       "    </tr>\n",
       "    <tr>\n",
       "      <th>1</th>\n",
       "      <td>7</td>\n",
       "      <td>4</td>\n",
       "      <td>90.6</td>\n",
       "      <td>35.4</td>\n",
       "      <td>669.1</td>\n",
       "      <td>6.7</td>\n",
       "      <td>18.0</td>\n",
       "      <td>33</td>\n",
       "      <td>0.9</td>\n",
       "      <td>0.0</td>\n",
       "      <td>...</td>\n",
       "      <td>0</td>\n",
       "      <td>1</td>\n",
       "      <td>0</td>\n",
       "      <td>0</td>\n",
       "      <td>0</td>\n",
       "      <td>0</td>\n",
       "      <td>0</td>\n",
       "      <td>0</td>\n",
       "      <td>1</td>\n",
       "      <td>0</td>\n",
       "    </tr>\n",
       "    <tr>\n",
       "      <th>2</th>\n",
       "      <td>7</td>\n",
       "      <td>4</td>\n",
       "      <td>90.6</td>\n",
       "      <td>43.7</td>\n",
       "      <td>686.9</td>\n",
       "      <td>6.7</td>\n",
       "      <td>14.6</td>\n",
       "      <td>33</td>\n",
       "      <td>1.3</td>\n",
       "      <td>0.0</td>\n",
       "      <td>...</td>\n",
       "      <td>0</td>\n",
       "      <td>1</td>\n",
       "      <td>0</td>\n",
       "      <td>0</td>\n",
       "      <td>0</td>\n",
       "      <td>1</td>\n",
       "      <td>0</td>\n",
       "      <td>0</td>\n",
       "      <td>0</td>\n",
       "      <td>0</td>\n",
       "    </tr>\n",
       "    <tr>\n",
       "      <th>3</th>\n",
       "      <td>8</td>\n",
       "      <td>6</td>\n",
       "      <td>91.7</td>\n",
       "      <td>33.3</td>\n",
       "      <td>77.5</td>\n",
       "      <td>9.0</td>\n",
       "      <td>8.3</td>\n",
       "      <td>97</td>\n",
       "      <td>4.0</td>\n",
       "      <td>0.2</td>\n",
       "      <td>...</td>\n",
       "      <td>0</td>\n",
       "      <td>0</td>\n",
       "      <td>0</td>\n",
       "      <td>1</td>\n",
       "      <td>0</td>\n",
       "      <td>0</td>\n",
       "      <td>0</td>\n",
       "      <td>0</td>\n",
       "      <td>0</td>\n",
       "      <td>0</td>\n",
       "    </tr>\n",
       "    <tr>\n",
       "      <th>4</th>\n",
       "      <td>8</td>\n",
       "      <td>6</td>\n",
       "      <td>89.3</td>\n",
       "      <td>51.3</td>\n",
       "      <td>102.2</td>\n",
       "      <td>9.6</td>\n",
       "      <td>11.4</td>\n",
       "      <td>99</td>\n",
       "      <td>1.8</td>\n",
       "      <td>0.0</td>\n",
       "      <td>...</td>\n",
       "      <td>0</td>\n",
       "      <td>0</td>\n",
       "      <td>0</td>\n",
       "      <td>0</td>\n",
       "      <td>0</td>\n",
       "      <td>0</td>\n",
       "      <td>1</td>\n",
       "      <td>0</td>\n",
       "      <td>0</td>\n",
       "      <td>0</td>\n",
       "    </tr>\n",
       "  </tbody>\n",
       "</table>\n",
       "<p>5 rows × 30 columns</p>\n",
       "</div>"
      ],
      "text/plain": [
       "   X  Y  FFMC   DMC     DC  ISI  temp  RH  wind  rain  ...    m_nov  m_oct  \\\n",
       "0  7  5  86.2  26.2   94.3  5.1   8.2  51   6.7   0.0  ...        0      0   \n",
       "1  7  4  90.6  35.4  669.1  6.7  18.0  33   0.9   0.0  ...        0      1   \n",
       "2  7  4  90.6  43.7  686.9  6.7  14.6  33   1.3   0.0  ...        0      1   \n",
       "3  8  6  91.7  33.3   77.5  9.0   8.3  97   4.0   0.2  ...        0      0   \n",
       "4  8  6  89.3  51.3  102.2  9.6  11.4  99   1.8   0.0  ...        0      0   \n",
       "\n",
       "   m_sep  d_fri  d_mon  d_sat  d_sun  d_thu  d_tue  d_wed  \n",
       "0      0      1      0      0      0      0      0      0  \n",
       "1      0      0      0      0      0      0      1      0  \n",
       "2      0      0      0      1      0      0      0      0  \n",
       "3      0      1      0      0      0      0      0      0  \n",
       "4      0      0      0      0      1      0      0      0  \n",
       "\n",
       "[5 rows x 30 columns]"
      ]
     },
     "execution_count": 9,
     "metadata": {},
     "output_type": "execute_result"
    }
   ],
   "source": [
    "## after encoding: \n",
    "forestfires.head()"
   ]
  },
  {
   "cell_type": "code",
   "execution_count": 10,
   "metadata": {
    "collapsed": true
   },
   "outputs": [],
   "source": [
    "## X is perdictors' dataframe\n",
    "## y is response' vector\n",
    "X = forestfires.loc[:, forestfires.columns != \"area\"]\n",
    "y = np.log(forestfires.area +1)\n",
    "\n",
    "## save them into csv\n",
    "X.to_csv(\"../results/X.csv\", encoding='utf-8', index=False)\n",
    "y.to_csv(\"../results/y.csv\", encoding='utf-8', index=False)"
   ]
  },
  {
   "cell_type": "code",
   "execution_count": 11,
   "metadata": {
    "collapsed": true
   },
   "outputs": [],
   "source": [
    "## split the data: \n",
    "\n",
    "X_train, X_test, y_train, y_test = train_test_split(X, y, test_size=0.33, random_state=19)"
   ]
  },
  {
   "cell_type": "markdown",
   "metadata": {},
   "source": [
    "### Random Forest with all features:"
   ]
  },
  {
   "cell_type": "code",
   "execution_count": 12,
   "metadata": {
    "collapsed": true
   },
   "outputs": [],
   "source": [
    "randomforestscores = []"
   ]
  },
  {
   "cell_type": "code",
   "execution_count": 13,
   "metadata": {
    "collapsed": true
   },
   "outputs": [],
   "source": [
    "randf = RandomForestRegressor(max_depth=5)\n",
    "randf.fit(X_train,y_train)\n",
    "randomforestscores.append(randf.score(X_test,y_test))"
   ]
  },
  {
   "cell_type": "markdown",
   "metadata": {},
   "source": [
    "### Lasso Regression (L1 Regularization): "
   ]
  },
  {
   "cell_type": "code",
   "execution_count": 15,
   "metadata": {},
   "outputs": [
    {
     "name": "stdout",
     "output_type": "stream",
     "text": [
      "For alpha value of  0.0001\n",
      "RMSE Training error: 1.32581403332\n",
      "RMSE Validation error: 1.47423953797\n",
      "Number of non-zero features 27\n",
      "-------------------------------------------\n",
      "For alpha value of  0.001\n",
      "RMSE Training error: 1.32680200412\n",
      "RMSE Validation error: 1.4533743819\n",
      "Number of non-zero features 25\n",
      "-------------------------------------------\n",
      "For alpha value of  0.01\n",
      "RMSE Training error: 1.34442253977\n",
      "RMSE Validation error: 1.3981621192\n",
      "Number of non-zero features 18\n",
      "-------------------------------------------\n",
      "For alpha value of  0.1\n",
      "RMSE Training error: 1.37631711496\n",
      "RMSE Validation error: 1.40485183101\n",
      "Number of non-zero features 8\n",
      "-------------------------------------------\n",
      "For alpha value of  1\n",
      "RMSE Training error: 1.38765527583\n",
      "RMSE Validation error: 1.4052674921\n",
      "Number of non-zero features 3\n",
      "-------------------------------------------\n",
      "For alpha value of  10\n",
      "RMSE Training error: 1.39149771914\n",
      "RMSE Validation error: 1.40836237248\n",
      "Number of non-zero features 0\n",
      "-------------------------------------------\n",
      "For alpha value of  100\n",
      "RMSE Training error: 1.39149771914\n",
      "RMSE Validation error: 1.40836237248\n",
      "Number of non-zero features 0\n",
      "-------------------------------------------\n",
      "For alpha value of  1000\n",
      "RMSE Training error: 1.39149771914\n",
      "RMSE Validation error: 1.40836237248\n",
      "Number of non-zero features 0\n",
      "-------------------------------------------\n",
      "For alpha value of  10000\n",
      "RMSE Training error: 1.39149771914\n",
      "RMSE Validation error: 1.40836237248\n",
      "Number of non-zero features 0\n",
      "-------------------------------------------\n",
      "---Optimal alpha for Lasso is 0.01\n"
     ]
    },
    {
     "data": {
      "image/png": "[encoded data removed]",
      "text/plain": [
       "<matplotlib.figure.Figure at 0x1a1eafda58>"
      ]
     },
     "metadata": {},
     "output_type": "display_data"
    }
   ],
   "source": [
    "alpha_settings = [10**-4,10**-3,10**-2,10**-1,1,10**1,10**2,10**3,10**4]\n",
    "Train_errorL = []\n",
    "Valid_errorL = []\n",
    "Nonzeros = []\n",
    "\n",
    "for alp in alpha_settings:\n",
    "    clfLasso = Lasso(alpha=alp)\n",
    "    clfLasso.fit(X_train, y_train) \n",
    "    \n",
    "    Train_errorL.append(np.sqrt(mean_squared_error(y_train, clfLasso.predict(X_train))))\n",
    "    Valid_errorL.append(np.sqrt(mean_squared_error(y_test, clfLasso.predict(X_test))))\n",
    "    #Train_error.append(1- clf.score(X,y))\n",
    "    #Valid_error.append(1- clf.score(Xvalidate,yvalidate))\n",
    "    print(\"For alpha value of \", alp)\n",
    "    print(\"RMSE Training error:\", np.sqrt(mean_squared_error(y_train, clfLasso.predict(X_train))))\n",
    "    print(\"RMSE Validation error:\", np.sqrt(mean_squared_error(y_test, clfLasso.predict(X_test))))\n",
    "    print(\"Number of non-zero features\",np.count_nonzero(clfLasso.coef_))\n",
    "    Nonzeros.append(np.count_nonzero(clfLasso.coef_))\n",
    "    print(\"-------------------------------------------\")\n",
    "\n",
    "plt.semilogx(alpha_settings, Train_errorL, label=\"training error\")\n",
    "plt.semilogx(alpha_settings, Valid_errorL, label=\"test error\")\n",
    "plt.legend()\n",
    "plt.ylabel(\"RMSE\")\n",
    "plt.xlabel(\"Alpha\")\n",
    "plt.title(\"Lasso\")\n",
    "plt.savefig('../results/LassoError.png')\n",
    "\n",
    "print(\"---Optimal alpha for Lasso is\",alpha_settings[np.argmin(Valid_errorL)])"
   ]
  },
  {
   "cell_type": "code",
   "execution_count": 16,
   "metadata": {},
   "outputs": [
    {
     "data": {
      "text/plain": [
       "<matplotlib.text.Text at 0x1a1f5183c8>"
      ]
     },
     "execution_count": 16,
     "metadata": {},
     "output_type": "execute_result"
    },
    {
     "data": {
      "image/png": "[encoded data removed]",
      "text/plain": [
       "<matplotlib.figure.Figure at 0x1a1f54cf60>"
      ]
     },
     "metadata": {},
     "output_type": "display_data"
    }
   ],
   "source": [
    "plt.figure()\n",
    "plt.semilogx(alpha_settings,Nonzeros)\n",
    "plt.title(\"Number of Non-zero Features vs Alpha\")\n",
    "plt.xlabel(\"Alpha\")\n",
    "plt.ylabel(\"Number of non-zero Features\")"
   ]
  },
  {
   "cell_type": "markdown",
   "metadata": {},
   "source": [
    " > Lasso gives `alpha =0.01` as optimum value. So, let's choose alpha as 0.01 and select variables which are not zero with this value of alpha."
   ]
  },
  {
   "cell_type": "code",
   "execution_count": 18,
   "metadata": {},
   "outputs": [
    {
     "data": {
      "text/plain": [
       "18"
      ]
     },
     "execution_count": 18,
     "metadata": {},
     "output_type": "execute_result"
    }
   ],
   "source": [
    "clfLasso = Lasso(alpha=0.01)\n",
    "clfLasso.fit(X_train, y_train) \n",
    "np.count_nonzero(clfLasso.coef_)"
   ]
  },
  {
   "cell_type": "code",
   "execution_count": 19,
   "metadata": {},
   "outputs": [
    {
     "data": {
      "text/plain": [
       "0.014236574887041996"
      ]
     },
     "execution_count": 19,
     "metadata": {},
     "output_type": "execute_result"
    }
   ],
   "source": [
    "# Lasso Selected Variables:\n",
    "rfe = RFE(Lasso(alpha=0.01),n_features_to_select = 18 )\n",
    "rfe.fit(X_train,y_train)\n",
    "rfe.score(X_test,y_test)"
   ]
  },
  {
   "cell_type": "code",
   "execution_count": 20,
   "metadata": {},
   "outputs": [
    {
     "data": {
      "text/plain": [
       "Index(['X', 'Y', 'FFMC', 'DMC', 'DC', 'ISI', 'temp', 'RH', 'wind', 'm_dec',\n",
       "       'm_feb', 'm_jun', 'm_mar', 'm_sep', 'd_fri', 'd_sat', 'd_thu', 'd_tue'],\n",
       "      dtype='object')"
      ]
     },
     "execution_count": 20,
     "metadata": {},
     "output_type": "execute_result"
    }
   ],
   "source": [
    "X.columns[rfe.support_]"
   ]
  },
  {
   "cell_type": "code",
   "execution_count": 21,
   "metadata": {
    "collapsed": true
   },
   "outputs": [],
   "source": [
    "Xlasso = X[(X.columns[rfe.support_])]\n",
    "#save Xlasso into csv\n",
    "Xlasso.to_csv(\"../results/Xlasso.csv\", encoding='utf-8', index=False)"
   ]
  },
  {
   "cell_type": "markdown",
   "metadata": {},
   "source": [
    "### ElasticNet Regression (L1+L2 Regularization): "
   ]
  },
  {
   "cell_type": "code",
   "execution_count": 26,
   "metadata": {},
   "outputs": [
    {
     "name": "stdout",
     "output_type": "stream",
     "text": [
      "For alpha value of  0.0001\n",
      "RMSE Training error: 1.32852981904\n",
      "RMSE Validation error: 1.46517227674\n",
      "Number of non-zero features 28\n",
      "-----------------------\n",
      "For alpha value of  0.001\n",
      "RMSE Training error: 1.34089582112\n",
      "RMSE Validation error: 1.43086081709\n",
      "Number of non-zero features 26\n",
      "-----------------------\n",
      "For alpha value of  0.01\n",
      "RMSE Training error: 1.38692234617\n",
      "RMSE Validation error: 1.40371842361\n",
      "Number of non-zero features 5\n",
      "-----------------------\n",
      "For alpha value of  0.1\n",
      "RMSE Training error: 1.39149771914\n",
      "RMSE Validation error: 1.40836237248\n",
      "Number of non-zero features 0\n",
      "-----------------------\n",
      "For alpha value of  1\n",
      "RMSE Training error: 1.39149771914\n",
      "RMSE Validation error: 1.40836237248\n",
      "Number of non-zero features 0\n",
      "-----------------------\n",
      "For alpha value of  10\n",
      "RMSE Training error: 1.39149771914\n",
      "RMSE Validation error: 1.40836237248\n",
      "Number of non-zero features 0\n",
      "-----------------------\n",
      "For alpha value of  100\n",
      "RMSE Training error: 1.39149771914\n",
      "RMSE Validation error: 1.40836237248\n",
      "Number of non-zero features 0\n",
      "-----------------------\n",
      "For alpha value of  1000\n",
      "RMSE Training error: 1.39149771914\n",
      "RMSE Validation error: 1.40836237248\n",
      "Number of non-zero features 0\n",
      "-----------------------\n",
      "For alpha value of  10000\n",
      "RMSE Training error: 1.39149771914\n",
      "RMSE Validation error: 1.40836237248\n",
      "Number of non-zero features 0\n",
      "-----------------------\n",
      "---Optimal alpha for Elastic Net is 0.01\n"
     ]
    },
    {
     "data": {
      "image/png": "[encoded data removed]",
      "text/plain": [
       "<matplotlib.figure.Figure at 0x1a14bcaeb8>"
      ]
     },
     "metadata": {},
     "output_type": "display_data"
    }
   ],
   "source": [
    "alpha_settings = [10**-4,10**-3,10**-2,10**-1,1,10**1,10**2,10**3,10**4]\n",
    "Train_errorEN = []\n",
    "Valid_errorEN = []\n",
    "Nonzeros = []\n",
    "\n",
    "for alp in alpha_settings:\n",
    "    clfElasticNet = ElasticNet(alpha=alp,normalize =True)\n",
    "    clfElasticNet.fit(X_train, y_train) \n",
    "    # mean_squared_err = lambda y, yhat: np.mean((y-yhat)**2)\n",
    "    \n",
    "    Train_errorEN.append(np.sqrt(mean_squared_error(y_train, clfElasticNet.predict(X_train))))\n",
    "    Valid_errorEN.append(np.sqrt(mean_squared_error(y_test, clfElasticNet.predict(X_test))))\n",
    "    #Train_error.append(1- clf.score(X,y))\n",
    "    #Valid_error.append(1- clf.score(Xvalidate,yvalidate))\n",
    "    print(\"For alpha value of \", alp)\n",
    "    print(\"RMSE Training error:\", np.sqrt(mean_squared_error(y_train, clfElasticNet.predict(X_train))))\n",
    "    print(\"RMSE Validation error:\", np.sqrt(mean_squared_error(y_test, clfElasticNet.predict(X_test))))\n",
    "    print(\"Number of non-zero features\",np.count_nonzero(clfElasticNet.coef_))\n",
    "    Nonzeros.append(np.count_nonzero(clfElasticNet.coef_))\n",
    "    print(\"-----------------------\")\n",
    "\n",
    "plt.semilogx(alpha_settings, Train_errorEN, label=\"training error\")\n",
    "plt.semilogx(alpha_settings, Valid_errorEN, label=\"test error\")\n",
    "plt.legend()\n",
    "plt.ylabel(\"RMSE\")\n",
    "plt.xlabel(\"Alpha\")\n",
    "plt.title(\"ElasticNet\")\n",
    "plt.savefig('../results/ElasticNetError.png')\n",
    "\n",
    "print(\"---Optimal alpha for Elastic Net is\",alpha_settings[np.argmin(Valid_errorEN)])"
   ]
  },
  {
   "cell_type": "code",
   "execution_count": 27,
   "metadata": {},
   "outputs": [
    {
     "data": {
      "text/plain": [
       "<matplotlib.text.Text at 0x1a1f349198>"
      ]
     },
     "execution_count": 27,
     "metadata": {},
     "output_type": "execute_result"
    },
    {
     "data": {
      "image/png": "[encoded data removed]",
      "text/plain": [
       "<matplotlib.figure.Figure at 0x1a1fff7470>"
      ]
     },
     "metadata": {},
     "output_type": "display_data"
    }
   ],
   "source": [
    "plt.figure()\n",
    "plt.semilogx(alpha_settings,Nonzeros)\n",
    "plt.title(\"Number of Non-zero Features vs Alpha for ElasticNet\")\n",
    "plt.xlabel(\"Alpha\")\n",
    "plt.ylabel(\"Number of non-zero Features\")\n"
   ]
  },
  {
   "cell_type": "code",
   "execution_count": 28,
   "metadata": {},
   "outputs": [
    {
     "data": {
      "text/plain": [
       "22"
      ]
     },
     "execution_count": 28,
     "metadata": {},
     "output_type": "execute_result"
    }
   ],
   "source": [
    "clfElasticNet = ElasticNet(alpha=0.01)\n",
    "clfElasticNet.fit(X_train, y_train) \n",
    "np.count_nonzero(clfElasticNet.coef_)"
   ]
  },
  {
   "cell_type": "code",
   "execution_count": 29,
   "metadata": {},
   "outputs": [
    {
     "data": {
      "text/plain": [
       "0.0070537447943211928"
      ]
     },
     "execution_count": 29,
     "metadata": {},
     "output_type": "execute_result"
    }
   ],
   "source": [
    "# ElasticNet Selected Variables:\n",
    "rfe = RFE(ElasticNet(alpha=0.01), n_features_to_select=22)\n",
    "rfe.fit(X_train,y_train)\n",
    "rfe.score(X_test,y_test)"
   ]
  },
  {
   "cell_type": "code",
   "execution_count": 30,
   "metadata": {},
   "outputs": [
    {
     "data": {
      "text/plain": [
       "Index(['X', 'Y', 'FFMC', 'DMC', 'DC', 'ISI', 'temp', 'RH', 'wind', 'rain',\n",
       "       'm_dec', 'm_feb', 'm_jul', 'm_jun', 'm_mar', 'm_sep', 'd_fri', 'd_mon',\n",
       "       'd_sat', 'd_thu', 'd_tue', 'd_wed'],\n",
       "      dtype='object')"
      ]
     },
     "execution_count": 30,
     "metadata": {},
     "output_type": "execute_result"
    }
   ],
   "source": [
    "X.columns[rfe.support_]"
   ]
  },
  {
   "cell_type": "code",
   "execution_count": 31,
   "metadata": {
    "collapsed": true
   },
   "outputs": [],
   "source": [
    "XelasticNet = X[(X.columns[rfe.support_])]\n",
    "#save Xlasso into csv\n",
    "XelasticNet.to_csv(\"../results/XElasticNet.csv\", encoding='utf-8', index=False)\n"
   ]
  },
  {
   "cell_type": "markdown",
   "metadata": {},
   "source": [
    "### Random Forest Regressions with only Selected Features from Lasso and ElasticNet"
   ]
  },
  {
   "cell_type": "code",
   "execution_count": 32,
   "metadata": {
    "collapsed": true
   },
   "outputs": [],
   "source": [
    "## for Lasso features:\n",
    "X_train, X_test, y_train, y_test = train_test_split(Xlasso, y, test_size=0.33, random_state=19)"
   ]
  },
  {
   "cell_type": "code",
   "execution_count": 33,
   "metadata": {
    "collapsed": true
   },
   "outputs": [],
   "source": [
    "randf = RandomForestRegressor(max_depth=5)\n",
    "randf.fit(X_train,y_train)\n",
    "randomforestscores.append(randf.score(X_test,y_test))\n"
   ]
  },
  {
   "cell_type": "code",
   "execution_count": 34,
   "metadata": {
    "collapsed": true
   },
   "outputs": [],
   "source": [
    "## for ElasticNet features:\n",
    "\n",
    "X_train, X_test, y_train, y_test = train_test_split(XelasticNet, y, test_size=0.33, random_state=19)"
   ]
  },
  {
   "cell_type": "code",
   "execution_count": 35,
   "metadata": {
    "collapsed": true
   },
   "outputs": [],
   "source": [
    "randf = RandomForestRegressor(max_depth=5)\n",
    "randf.fit(X_train,y_train)\n",
    "randomforestscores.append(randf.score(X_test,y_test))\n",
    "randomforestscores = pd.DataFrame(randomforestscores)"
   ]
  },
  {
   "cell_type": "code",
   "execution_count": 36,
   "metadata": {},
   "outputs": [
    {
     "data": {
      "text/html": [
       "<div>\n",
       "<style scoped>\n",
       "    .dataframe tbody tr th:only-of-type {\n",
       "        vertical-align: middle;\n",
       "    }\n",
       "\n",
       "    .dataframe tbody tr th {\n",
       "        vertical-align: top;\n",
       "    }\n",
       "\n",
       "    .dataframe thead th {\n",
       "        text-align: right;\n",
       "    }\n",
       "</style>\n",
       "<table border=\"1\" class=\"dataframe\">\n",
       "  <thead>\n",
       "    <tr style=\"text-align: right;\">\n",
       "      <th></th>\n",
       "      <th>0</th>\n",
       "    </tr>\n",
       "  </thead>\n",
       "  <tbody>\n",
       "    <tr>\n",
       "      <th>RandomForest with all features(29)</th>\n",
       "      <td>-0.059792</td>\n",
       "    </tr>\n",
       "    <tr>\n",
       "      <th>RandomForest with Lasso features(18)</th>\n",
       "      <td>-0.043251</td>\n",
       "    </tr>\n",
       "    <tr>\n",
       "      <th>RandomForest with ElasticNet features(22)</th>\n",
       "      <td>-0.029118</td>\n",
       "    </tr>\n",
       "  </tbody>\n",
       "</table>\n",
       "</div>"
      ],
      "text/plain": [
       "                                                  0\n",
       "RandomForest with all features(29)        -0.059792\n",
       "RandomForest with Lasso features(18)      -0.043251\n",
       "RandomForest with ElasticNet features(22) -0.029118"
      ]
     },
     "execution_count": 36,
     "metadata": {},
     "output_type": "execute_result"
    }
   ],
   "source": [
    "randomforestscores = randomforestscores.rename(index={0: 'RandomForest with all features(29)'})\n",
    "randomforestscores = randomforestscores.rename(index={1: 'RandomForest with Lasso features(18)'})\n",
    "randomforestscores = randomforestscores.rename(index={2: 'RandomForest with ElasticNet features(22)'})\n",
    "randomforestscores"
   ]
  },
  {
   "cell_type": "code",
   "execution_count": 38,
   "metadata": {},
   "outputs": [],
   "source": [
    "pd.DataFrame(np.transpose(randomforestscores)).to_csv(\"../results/RandomForestScores.csv\", encoding='utf-8', index=False)"
   ]
  },
  {
   "cell_type": "code",
   "execution_count": null,
   "metadata": {
    "collapsed": true
   },
   "outputs": [],
   "source": []
  }
 ],
 "metadata": {
  "kernelspec": {
   "display_name": "Python 3",
   "language": "python",
   "name": "python3"
  },
  "language_info": {
   "codemirror_mode": {
    "name": "ipython",
    "version": 3
   },
   "file_extension": ".py",
   "mimetype": "text/x-python",
   "name": "python",
   "nbconvert_exporter": "python",
   "pygments_lexer": "ipython3",
   "version": "3.6.4"
  }
 },
 "nbformat": 4,
 "nbformat_minor": 2
}
